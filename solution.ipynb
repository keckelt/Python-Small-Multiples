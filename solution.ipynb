{
 "cells": [
  {
   "cell_type": "markdown",
   "metadata": {},
   "source": [
    "#  Small Multiples"
   ]
  },
  {
   "cell_type": "code",
   "execution_count": 1,
   "metadata": {},
   "outputs": [],
   "source": [
    "import pandas as pd\n",
    "import matplotlib.pyplot as plt\n",
    "\n",
    "#Switch to Jupyter Notebook mode of matplotlib\n",
    "%matplotlib inline              "
   ]
  },
  {
   "cell_type": "code",
   "execution_count": 2,
   "metadata": {},
   "outputs": [],
   "source": [
    "df = pd.read_csv('./soccer.csv')  # Load the dataset"
   ]
  },
  {
   "cell_type": "code",
   "execution_count": 3,
   "metadata": {},
   "outputs": [
    {
     "data": {
      "text/plain": [
       "player             object\n",
       "age                 int64\n",
       "current_club       object\n",
       "current_league     object\n",
       "foot               object\n",
       "height              int64\n",
       "nationality        object\n",
       "position           object\n",
       "games12           float64\n",
       "games13           float64\n",
       "games14           float64\n",
       "games15           float64\n",
       "games16           float64\n",
       "games17           float64\n",
       "goals12           float64\n",
       "goals13           float64\n",
       "goals14           float64\n",
       "goals15           float64\n",
       "goals16           float64\n",
       "goals17           float64\n",
       "minutes12         float64\n",
       "minutes13         float64\n",
       "minutes14         float64\n",
       "minutes15         float64\n",
       "minutes16         float64\n",
       "minutes17         float64\n",
       "assists12         float64\n",
       "assists13         float64\n",
       "assists14         float64\n",
       "assists15         float64\n",
       "assists16         float64\n",
       "assists17         float64\n",
       "dtype: object"
      ]
     },
     "execution_count": 3,
     "metadata": {},
     "output_type": "execute_result"
    }
   ],
   "source": [
    "# Inspect the dataset \n",
    "# See https://pandas.pydata.org/pandas-docs/stable/reference/frame.html\n",
    "df.dtypes # No semicolon to see the output in the notebook"
   ]
  },
  {
   "cell_type": "code",
   "execution_count": 4,
   "metadata": {},
   "outputs": [
    {
     "data": {
      "text/html": [
       "<div>\n",
       "<style scoped>\n",
       "    .dataframe tbody tr th:only-of-type {\n",
       "        vertical-align: middle;\n",
       "    }\n",
       "\n",
       "    .dataframe tbody tr th {\n",
       "        vertical-align: top;\n",
       "    }\n",
       "\n",
       "    .dataframe thead th {\n",
       "        text-align: right;\n",
       "    }\n",
       "</style>\n",
       "<table border=\"1\" class=\"dataframe\">\n",
       "  <thead>\n",
       "    <tr style=\"text-align: right;\">\n",
       "      <th></th>\n",
       "      <th>player</th>\n",
       "      <th>age</th>\n",
       "      <th>current_club</th>\n",
       "      <th>current_league</th>\n",
       "      <th>foot</th>\n",
       "      <th>height</th>\n",
       "      <th>nationality</th>\n",
       "      <th>position</th>\n",
       "      <th>games12</th>\n",
       "      <th>games13</th>\n",
       "      <th>...</th>\n",
       "      <th>minutes14</th>\n",
       "      <th>minutes15</th>\n",
       "      <th>minutes16</th>\n",
       "      <th>minutes17</th>\n",
       "      <th>assists12</th>\n",
       "      <th>assists13</th>\n",
       "      <th>assists14</th>\n",
       "      <th>assists15</th>\n",
       "      <th>assists16</th>\n",
       "      <th>assists17</th>\n",
       "    </tr>\n",
       "  </thead>\n",
       "  <tbody>\n",
       "    <tr>\n",
       "      <th>0</th>\n",
       "      <td>Dmitri Poloz</td>\n",
       "      <td>26</td>\n",
       "      <td>Zenit St. Petersburg</td>\n",
       "      <td>RUS - Premier Liga</td>\n",
       "      <td>right</td>\n",
       "      <td>183</td>\n",
       "      <td>Russia</td>\n",
       "      <td>W</td>\n",
       "      <td>22.0</td>\n",
       "      <td>30.0</td>\n",
       "      <td>...</td>\n",
       "      <td>1522.0</td>\n",
       "      <td>2132.0</td>\n",
       "      <td>2987.0</td>\n",
       "      <td>1194.0</td>\n",
       "      <td>1.0</td>\n",
       "      <td>4.0</td>\n",
       "      <td>2.0</td>\n",
       "      <td>6.0</td>\n",
       "      <td>8.0</td>\n",
       "      <td>7.0</td>\n",
       "    </tr>\n",
       "    <tr>\n",
       "      <th>1</th>\n",
       "      <td>Emiliano Rigoni</td>\n",
       "      <td>25</td>\n",
       "      <td>Zenit St. Petersburg</td>\n",
       "      <td>RUS - Premier Liga</td>\n",
       "      <td>both</td>\n",
       "      <td>180</td>\n",
       "      <td>Argentina  Italy</td>\n",
       "      <td>W</td>\n",
       "      <td>NaN</td>\n",
       "      <td>26.0</td>\n",
       "      <td>...</td>\n",
       "      <td>2832.0</td>\n",
       "      <td>1533.0</td>\n",
       "      <td>2427.0</td>\n",
       "      <td>1433.0</td>\n",
       "      <td>NaN</td>\n",
       "      <td>0.0</td>\n",
       "      <td>6.0</td>\n",
       "      <td>6.0</td>\n",
       "      <td>2.0</td>\n",
       "      <td>3.0</td>\n",
       "    </tr>\n",
       "    <tr>\n",
       "      <th>2</th>\n",
       "      <td>Sebastián Driussi</td>\n",
       "      <td>22</td>\n",
       "      <td>Zenit St. Petersburg</td>\n",
       "      <td>RUS - Premier Liga</td>\n",
       "      <td>both</td>\n",
       "      <td>179</td>\n",
       "      <td>Argentina  Italy</td>\n",
       "      <td>CF</td>\n",
       "      <td>NaN</td>\n",
       "      <td>7.0</td>\n",
       "      <td>...</td>\n",
       "      <td>2231.0</td>\n",
       "      <td>914.0</td>\n",
       "      <td>2517.0</td>\n",
       "      <td>1571.0</td>\n",
       "      <td>NaN</td>\n",
       "      <td>0.0</td>\n",
       "      <td>4.0</td>\n",
       "      <td>1.0</td>\n",
       "      <td>3.0</td>\n",
       "      <td>4.0</td>\n",
       "    </tr>\n",
       "    <tr>\n",
       "      <th>3</th>\n",
       "      <td>Aleksandr Kokorin</td>\n",
       "      <td>26</td>\n",
       "      <td>Zenit St. Petersburg</td>\n",
       "      <td>RUS - Premier Liga</td>\n",
       "      <td>right</td>\n",
       "      <td>183</td>\n",
       "      <td>Russia</td>\n",
       "      <td>CF</td>\n",
       "      <td>26.0</td>\n",
       "      <td>23.0</td>\n",
       "      <td>...</td>\n",
       "      <td>2785.0</td>\n",
       "      <td>1424.0</td>\n",
       "      <td>2889.0</td>\n",
       "      <td>2911.0</td>\n",
       "      <td>5.0</td>\n",
       "      <td>9.0</td>\n",
       "      <td>7.0</td>\n",
       "      <td>3.0</td>\n",
       "      <td>7.0</td>\n",
       "      <td>4.0</td>\n",
       "    </tr>\n",
       "    <tr>\n",
       "      <th>4</th>\n",
       "      <td>Anton Zabolotnyi</td>\n",
       "      <td>26</td>\n",
       "      <td>Zenit St. Petersburg</td>\n",
       "      <td>RUS - Premier Liga</td>\n",
       "      <td>right</td>\n",
       "      <td>188</td>\n",
       "      <td>Russia</td>\n",
       "      <td>CF</td>\n",
       "      <td>5.0</td>\n",
       "      <td>26.0</td>\n",
       "      <td>...</td>\n",
       "      <td>NaN</td>\n",
       "      <td>1500.0</td>\n",
       "      <td>2562.0</td>\n",
       "      <td>2019.0</td>\n",
       "      <td>0.0</td>\n",
       "      <td>1.0</td>\n",
       "      <td>NaN</td>\n",
       "      <td>3.0</td>\n",
       "      <td>5.0</td>\n",
       "      <td>2.0</td>\n",
       "    </tr>\n",
       "  </tbody>\n",
       "</table>\n",
       "<p>5 rows × 32 columns</p>\n",
       "</div>"
      ],
      "text/plain": [
       "              player  age          current_club      current_league   foot  \\\n",
       "0       Dmitri Poloz   26  Zenit St. Petersburg  RUS - Premier Liga  right   \n",
       "1    Emiliano Rigoni   25  Zenit St. Petersburg  RUS - Premier Liga   both   \n",
       "2  Sebastián Driussi   22  Zenit St. Petersburg  RUS - Premier Liga   both   \n",
       "3  Aleksandr Kokorin   26  Zenit St. Petersburg  RUS - Premier Liga  right   \n",
       "4   Anton Zabolotnyi   26  Zenit St. Petersburg  RUS - Premier Liga  right   \n",
       "\n",
       "   height       nationality position  games12  games13  ...  minutes14  \\\n",
       "0     183            Russia        W     22.0     30.0  ...     1522.0   \n",
       "1     180  Argentina  Italy        W      NaN     26.0  ...     2832.0   \n",
       "2     179  Argentina  Italy       CF      NaN      7.0  ...     2231.0   \n",
       "3     183            Russia       CF     26.0     23.0  ...     2785.0   \n",
       "4     188            Russia       CF      5.0     26.0  ...        NaN   \n",
       "\n",
       "   minutes15  minutes16  minutes17  assists12  assists13  assists14  \\\n",
       "0     2132.0     2987.0     1194.0        1.0        4.0        2.0   \n",
       "1     1533.0     2427.0     1433.0        NaN        0.0        6.0   \n",
       "2      914.0     2517.0     1571.0        NaN        0.0        4.0   \n",
       "3     1424.0     2889.0     2911.0        5.0        9.0        7.0   \n",
       "4     1500.0     2562.0     2019.0        0.0        1.0        NaN   \n",
       "\n",
       "   assists15  assists16  assists17  \n",
       "0        6.0        8.0        7.0  \n",
       "1        6.0        2.0        3.0  \n",
       "2        1.0        3.0        4.0  \n",
       "3        3.0        7.0        4.0  \n",
       "4        3.0        5.0        2.0  \n",
       "\n",
       "[5 rows x 32 columns]"
      ]
     },
     "execution_count": 4,
     "metadata": {},
     "output_type": "execute_result"
    }
   ],
   "source": [
    "# Take a glimpse into the data\n",
    "df.head() # No semicolon to see the output in the notebook"
   ]
  },
  {
   "cell_type": "markdown",
   "metadata": {},
   "source": [
    "## Task\n",
    "### Small Multiples\n",
    "Group the players by their current league and plot the age distribution of each league in a small multiples visualisation.\n",
    "\n",
    "See: [pandas groupby](https://pandas.pydata.org/pandas-docs/stable/reference/api/pandas.DataFrame.groupby.html#pandas.DataFrame.groupby), [matplotlib hist](https://matplotlib.org/3.1.1/api/_as_gen/matplotlib.pyplot.hist.html) and [pandas hist](https://pandas.pydata.org/pandas-docs/stable/reference/api/pandas.Series.plot.hist.html),[matplotlib subplots](https://matplotlib.org/3.1.1/api/_as_gen/matplotlib.pyplot.subplots.html) and [matplotlib subplot](https://matplotlib.org/3.1.0/api/_as_gen/matplotlib.pyplot.subplot.html), [matplotlib get_shared_x/y_axes](https://matplotlib.org/3.1.0/api/_as_gen/matplotlib.axes.Axes.get_shared_x_axes.html) (and the [Grouper object](https://matplotlib.org/3.1.0/api/cbook_api.html#matplotlib.cbook.Grouper) it reutrns)."
   ]
  },
  {
   "cell_type": "code",
   "execution_count": 5,
   "metadata": {},
   "outputs": [
    {
     "data": {
      "image/png": "[encoded data removed]",
      "text/plain": [
       "<Figure size 432x288 with 1 Axes>"
      ]
     },
     "metadata": {
      "needs_background": "light"
     },
     "output_type": "display_data"
    }
   ],
   "source": [
    "# Single Histogram\n",
    "df['age'].hist();"
   ]
  },
  {
   "cell_type": "code",
   "execution_count": 6,
   "metadata": {},
   "outputs": [
    {
     "data": {
      "text/plain": [
       "array(['RUS - Premier Liga', 'ESP - LaLiga', 'NLD - Eredivisie',\n",
       "       'GBR - Premier League', 'TUR - Süper Lig', 'GRC - Super League',\n",
       "       'FRA - Ligue 1', 'ITA - Serie A', 'BEL - Jupiler Pro League',\n",
       "       'PRT - Liga NOS'], dtype=object)"
      ]
     },
     "execution_count": 6,
     "metadata": {},
     "output_type": "execute_result"
    }
   ],
   "source": [
    "# List all leagues\n",
    "len(df['current_league'].unique());  # = 10\n",
    "df['current_league'].unique()"
   ]
  },
  {
   "cell_type": "markdown",
   "metadata": {},
   "source": [
    "#### Using Matplotlib"
   ]
  },
  {
   "cell_type": "code",
   "execution_count": 7,
   "metadata": {},
   "outputs": [
    {
     "data": {
      "image/png": "[encoded data removed]",
      "text/plain": [
       "<Figure size 1440x720 with 10 Axes>"
      ]
     },
     "metadata": {
      "needs_background": "light"
     },
     "output_type": "display_data"
    }
   ],
   "source": [
    "fig, ax = plt.subplots(2, 5, figsize=(20,10), sharex=True, sharey=True)  # set larger fig size and shared scales on the small multiples\n",
    "\n",
    "plot_no = 0  # index for subplots\n",
    "\n",
    "for league, selection in df.groupby('current_league'):  # Group the data by league and iterate over groups\n",
    "    ax.flatten()[plot_no].hist(selection['age'])  # ax is two-dimensional so we flatten it first to use our counter var\n",
    "    ax.flatten()[plot_no].set(xlabel='Age',\n",
    "                               ylabel='Count',\n",
    "                               title=league)\n",
    "    plot_no = plot_no + 1\n",
    "\n",
    "plt.tight_layout()"
   ]
  },
  {
   "cell_type": "markdown",
   "metadata": {},
   "source": [
    "#### Using Pandas + Matplotlib"
   ]
  },
  {
   "cell_type": "code",
   "execution_count": 8,
   "metadata": {},
   "outputs": [
    {
     "data": {
      "image/png": "[encoded data removed]",
      "text/plain": [
       "<Figure size 1440x720 with 10 Axes>"
      ]
     },
     "metadata": {
      "needs_background": "light"
     },
     "output_type": "display_data"
    }
   ],
   "source": [
    "fig, ax = plt.subplots(2, 5, figsize=(20,10), sharex=True, sharey=True)  # set larger fig size and shared scales on the small multiples\n",
    "plot_no = 0  # index for subplots\n",
    "\n",
    "for league, selection in df.groupby('current_league'):  # Group the data by league and iterate over groups\n",
    "    selection['age'].hist(ax=ax.flatten()[plot_no]); # pass the subplot to plot into as parameter\n",
    "    ax.flatten()[plot_no].set(xlabel='Age',\n",
    "                               ylabel='Count',\n",
    "                               title=league) # set labels and title with matplotlib\n",
    "    plot_no = plot_no + 1\n",
    "\n",
    "plt.tight_layout()"
   ]
  },
  {
   "cell_type": "markdown",
   "metadata": {},
   "source": [
    "\n",
    "## Submission\n",
    "Please make a screenshot of your visualisation and submit it."
   ]
  }
 ],
 "metadata": {
  "kernelspec": {
   "display_name": "Python 3",
   "language": "python",
   "name": "python3"
  },
  "language_info": {
   "codemirror_mode": {
    "name": "ipython",
    "version": 3
   },
   "file_extension": ".py",
   "mimetype": "text/x-python",
   "name": "python",
   "nbconvert_exporter": "python",
   "pygments_lexer": "ipython3",
   "version": "3.7.3"
  }
 },
 "nbformat": 4,
 "nbformat_minor": 2
}
