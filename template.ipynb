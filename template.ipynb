{
 "cells": [
  {
   "cell_type": "markdown",
   "metadata": {},
   "source": [
    "#  Small Multiples"
   ]
  },
  {
   "cell_type": "code",
   "execution_count": null,
   "metadata": {},
   "outputs": [],
   "source": [
    "import pandas as pd\n",
    "import matplotlib.pyplot as plt\n",
    "\n",
    "#Switch to Jupyter Notebook mode of matplotlib\n",
    "%matplotlib inline              "
   ]
  },
  {
   "cell_type": "code",
   "execution_count": null,
   "metadata": {},
   "outputs": [],
   "source": [
    "df = pd.read_csv('./soccer.csv')  # Load the dataset"
   ]
  },
  {
   "cell_type": "code",
   "execution_count": null,
   "metadata": {},
   "outputs": [],
   "source": [
    "# Inspect the dataset \n",
    "# See https://pandas.pydata.org/pandas-docs/stable/reference/frame.html\n",
    "df.dtypes # No semicolon to see the output in the notebook"
   ]
  },
  {
   "cell_type": "code",
   "execution_count": null,
   "metadata": {},
   "outputs": [],
   "source": [
    "# Take a glimpse into the data\n",
    "df.head() # No semicolon to see the output in the notebook"
   ]
  },
  {
   "cell_type": "markdown",
   "metadata": {},
   "source": [
    "## Task\n",
    "### Small Multiples\n",
    "Group the players by their current league and plot the age distribution of each league in a small multiples visualisation.\n",
    "\n",
    "See: [pandas groupby](https://pandas.pydata.org/pandas-docs/stable/reference/api/pandas.DataFrame.groupby.html#pandas.DataFrame.groupby), [pandas hist](https://pandas.pydata.org/pandas-docs/stable/reference/api/pandas.Series.plot.hist.html),[matplotlib subplot](https://matplotlib.org/3.1.0/api/_as_gen/matplotlib.pyplot.subplot.html), [matplotlib get_shared_x/y_axes](https://matplotlib.org/3.1.0/api/_as_gen/matplotlib.axes.Axes.get_shared_x_axes.html) (and the [Grouper object](https://matplotlib.org/3.1.0/api/cbook_api.html#matplotlib.cbook.Grouper) it reutrns)."
   ]
  },
  {
   "cell_type": "code",
   "execution_count": null,
   "metadata": {},
   "outputs": [],
   "source": [
    "# TODO"
   ]
  },
  {
   "cell_type": "markdown",
   "metadata": {},
   "source": [
    "\n",
    "## Submission\n",
    "Please make a screenshot of your visualisation and submit it."
   ]
  }
 ],
 "metadata": {
  "kernelspec": {
   "display_name": "Python 3",
   "language": "python",
   "name": "python3"
  },
  "language_info": {
   "codemirror_mode": {
    "name": "ipython",
    "version": 3
   },
   "file_extension": ".py",
   "mimetype": "text/x-python",
   "name": "python",
   "nbconvert_exporter": "python",
   "pygments_lexer": "ipython3",
   "version": "3.7.2"
  }
 },
 "nbformat": 4,
 "nbformat_minor": 2
}
